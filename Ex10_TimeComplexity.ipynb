{
 "cells": [
  {
   "cell_type": "code",
   "execution_count": null,
   "metadata": {},
   "outputs": [],
   "source": [
    "import numpy as np\n",
    "\n",
    "def linear_search(a_list, search_num):\n",
    "    for idx,value in enumerate(a_list):\n",
    "        if search_num == value:\n",
    "            return idx\n",
    "    return np.nan\n"
   ]
  },
  {
   "cell_type": "code",
   "execution_count": null,
   "metadata": {},
   "outputs": [],
   "source": [
    "def constant_search(a_list, search_num):\n",
    "    total = search_num\n",
    "    \n",
    "    return total"
   ]
  },
  {
   "cell_type": "code",
   "execution_count": null,
   "metadata": {},
   "outputs": [],
   "source": [
    "def two_array_multiplication(arr1, arr2):\n",
    "    n1 = len(arr1)\n",
    "    n2 = len(arr2)\n",
    "    \n",
    "    for i in range(n1):\n",
    "        for j in range(n2):\n",
    "            # Simulate some basic operation\n",
    "            result = arr1[i] * arr2[j]"
   ]
  },
  {
   "cell_type": "code",
   "execution_count": null,
   "metadata": {},
   "outputs": [],
   "source": [
    "import time\n",
    "import matplotlib.pyplot as plt\n",
    "runtime= []\n",
    "num_list=[50, 100, 150, 200, 250, 300, 350, 400, 500, 1000, 5000]\n",
    "for num in num_list:    \n",
    "    a_list = list(np.random.randint(1, 101, size=num))\n",
    "    start_time = time.time()\n",
    "    #location = linear_search(a_list, 15)\n",
    "    result = two_array_multiplication(a_list, a_list)\n",
    "    end_time = time.time()\n",
    "    # Calculate the runtime\n",
    "    runtime.append(end_time - start_time)\n",
    "   \n",
    "\n",
    "plt.plot(num_list, 1000*np.sort(runtime))\n",
    "plt.xlabel('size of the list')\n",
    "plt.ylabel('time in milliseconds')\n",
    "plt.show()"
   ]
  },
  {
   "cell_type": "code",
   "execution_count": null,
   "metadata": {},
   "outputs": [],
   "source": [
    "def bubble_sort(arr):\n",
    "    n = len(arr)\n",
    "    \n",
    "    # Traverse through all array elements\n",
    "    for i in range(n):\n",
    "        # Flag to optimize the algorithm (no swaps in a pass means the array is already sorted)\n",
    "        swapped = False\n",
    "        \n",
    "        # Last i elements are already in place, so we don't need to check them\n",
    "        for j in range(0, n - i - 1):\n",
    "            # Swap if the element found is greater than the next element\n",
    "            if arr[j] > arr[j + 1]:\n",
    "                arr[j], arr[j + 1] = arr[j + 1], arr[j]  # Swap the elements\n",
    "                swapped = True  # Set the flag to True indicating a swap occurred\n",
    "        \n",
    "        # If no two elements were swapped in the inner loop, the array is already sorted\n",
    "        if not swapped:\n",
    "            break"
   ]
  },
  {
   "cell_type": "code",
   "execution_count": null,
   "metadata": {},
   "outputs": [],
   "source": [
    "runtime= []\n",
    "num_list = [50, 100, 150, 200, 250, 300, 350, 400, 500]\n",
    "for num in num_list:    \n",
    "    my_list = list(np.random.randint(1, 101, size=num))\n",
    "    start_time = time.time()\n",
    "    bubble_sort(my_list)\n",
    "    end_time = time.time()\n",
    "    # Calculate the runtime\n",
    "    runtime.append(end_time - start_time)\n",
    "    #print(\"Sorted array:\", my_list)\n",
    "\n",
    "\n",
    "import matplotlib.pyplot as plt\n",
    "\n",
    "plt.plot(num_list, 1000*np.sort(runtime))\n",
    "plt.xlabel('size of the list')\n",
    "plt.ylabel('time in milliseconds')"
   ]
  }
 ],
 "metadata": {
  "kernelspec": {
   "display_name": ".venv",
   "language": "python",
   "name": "python3"
  },
  "language_info": {
   "codemirror_mode": {
    "name": "ipython",
    "version": 3
   },
   "file_extension": ".py",
   "mimetype": "text/x-python",
   "name": "python",
   "nbconvert_exporter": "python",
   "pygments_lexer": "ipython3",
   "version": "3.12.2"
  },
  "orig_nbformat": 4
 },
 "nbformat": 4,
 "nbformat_minor": 2
}
