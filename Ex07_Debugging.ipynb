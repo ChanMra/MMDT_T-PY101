{
 "cells": [
  {
   "cell_type": "markdown",
   "metadata": {},
   "source": [
    "### Simple Debugging: This exercise test a debugging skill!\n",
    "\n"
   ]
  },
  {
   "cell_type": "code",
   "execution_count": null,
   "metadata": {},
   "outputs": [],
   "source": [
    "# Q1) Dubug the error by adding print statements to your program.\n",
    "\n",
    "import numpy as np\n",
    "\n",
    "#Step 1: generate a random number between 1 and 5\n",
    "rand_num = np.random.random(1)\n",
    "\n",
    "# Add print statment here to know the value of rand_num\n",
    "\n",
    "\n",
    "# Step 2: This code should print 5 rows of 'Hello ' rand_num times. Each row should be on a new line. Fix it.\n",
    "\n",
    "for i in range(5):\n",
    "    print('Hello ' * int(rand_num))"
   ]
  },
  {
   "cell_type": "code",
   "execution_count": null,
   "metadata": {},
   "outputs": [],
   "source": [
    "### Q2) Write a program that generates 10000 random numbers between 1 and 100 and counts how many of them are multiples of 12.\n",
    "\n",
    "count = 0\n",
    "range_start = 1\n",
    "range_end = 100\n",
    "for i in range(range_end):\n",
    "    num = np.random.randint(range_start, range_end)\n",
    "\n",
    "    if num%12==0:\n",
    "        count=count+1\n",
    "   \n",
    "print('Number of multiples of 12:', count)\n"
   ]
  },
  {
   "cell_type": "code",
   "execution_count": null,
   "metadata": {},
   "outputs": [],
   "source": [
    "#Q3) The following program should counts how many of the squares of the numbers from 1 to 100 end in 1.  (Example: 1,81,121). \n",
    "# ## Debug the code.\n",
    "\n",
    "def fun_square_count():\n",
    "    num_list = np.arange(1,101)\n",
    "    squred_num = [value**2 for value in num_list]\n",
    "    count=0\n",
    "    for num in squred_num:\n",
    "        if(num//10 == 1):            \n",
    "            count +=1\n",
    "\n",
    "    return count\n",
    "\n",
    "fun_square_count()"
   ]
  },
  {
   "cell_type": "code",
   "execution_count": null,
   "metadata": {},
   "outputs": [],
   "source": [
    "#Q4) The following program should check if a number is a prime number. Debug the code.\n",
    "\n",
    "def is_prime(n):\n",
    "    for i in range(2, n):\n",
    "        if n // i == 0:\n",
    "            return False\n",
    "    return True\n",
    "\n",
    "numbers = np.arange(1, 21)\n",
    "for num in numbers:\n",
    "    print(is_prime(num))\n"
   ]
  }
 ],
 "metadata": {
  "kernelspec": {
   "display_name": "Python 3",
   "language": "python",
   "name": "python3"
  },
  "language_info": {
   "codemirror_mode": {
    "name": "ipython",
    "version": 3
   },
   "file_extension": ".py",
   "mimetype": "text/x-python",
   "name": "python",
   "nbconvert_exporter": "python",
   "pygments_lexer": "ipython3",
   "version": "3.12.2"
  }
 },
 "nbformat": 4,
 "nbformat_minor": 2
}
