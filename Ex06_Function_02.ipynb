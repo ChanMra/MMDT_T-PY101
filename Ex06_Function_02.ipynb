{
 "cells": [
  {
   "cell_type": "markdown",
   "metadata": {},
   "source": [
    "### Exercises cover both Exception Handling and variable scopes. \n"
   ]
  },
  {
   "cell_type": "markdown",
   "metadata": {},
   "source": [
    "### Q1) Run the following programs, identify and Fix the errors. \n",
    "Use **exception handling** approach to handle the erros. \n"
   ]
  },
  {
   "cell_type": "code",
   "execution_count": null,
   "metadata": {},
   "outputs": [],
   "source": [
    "#Q1.1) Zero division error\n",
    "def myfunction(a,b):\n",
    "    answer = a/b\n",
    "    return answer\n",
    "      \n",
    "\n",
    "#Call the function as follows:\n",
    "myfunction(2,0)"
   ]
  },
  {
   "cell_type": "code",
   "execution_count": null,
   "metadata": {},
   "outputs": [],
   "source": [
    "#Q1.2 Name Error\n",
    "\n",
    "def myfunction2(c):\n",
    "    answer = a/c\n",
    "    return answer\n",
    "    \n",
    "\n",
    "# Call the function as follows:\n",
    "myfunction2(3)"
   ]
  },
  {
   "cell_type": "code",
   "execution_count": null,
   "metadata": {
    "scrolled": true
   },
   "outputs": [],
   "source": [
    "#Q1.3 IndexError\n",
    "def myfunction3(b):\n",
    "    mylist = [2, 3, 5, -7, 8, 0]\n",
    "    idx = 0\n",
    "    while idx<=6:\n",
    "        print('Iteration:', idx, mylist[idx]/b) \n",
    "        idx = idx+1\n",
    "        print('Iteration completed')\n",
    "\n",
    "# Call the function as follows:\n",
    "myfunction3(b=5)"
   ]
  },
  {
   "cell_type": "code",
   "execution_count": null,
   "metadata": {},
   "outputs": [],
   "source": [
    "#Q1.4 Zero Division Error, Value Error\n",
    "def divide(a, b):\n",
    "    result = a / b\n",
    "    print('The result of division is', result)\n",
    "    # FIX THE ERROR BELOW\n",
    "    # ZeroDivisionError\n",
    "    # ValueError\n",
    "    return result\n",
    "\n",
    "\n",
    "# Call the function as follows:\n",
    "divide(\"10\",2)  \n",
    "divide(10,0)\n",
    "divide(10, \"two\")"
   ]
  },
  {
   "cell_type": "code",
   "execution_count": null,
   "metadata": {},
   "outputs": [],
   "source": [
    "#Q1.5 FileNotFoundError\n",
    "def read_file(filename):\n",
    "    with open(filename, 'r') as file1:\n",
    "        word_string = file1.read()\n",
    "    print(\"File reading completed successfully\")\n",
    "    # FIX THE ERROR BELOW\n",
    "    # FileNotFoundError\n",
    "    return word_string\n",
    "\n",
    "\n",
    "# Call the function as follows:\n",
    "read_file(\"Q1.txt\")\n"
   ]
  },
  {
   "cell_type": "markdown",
   "metadata": {},
   "source": [
    "### Q2) Run the following programs and identify the potential errors. \n",
    "Check the scopes of the variable, and fix it."
   ]
  },
  {
   "cell_type": "code",
   "execution_count": null,
   "metadata": {},
   "outputs": [],
   "source": [
    "def check_rows(grid, expected_numbers):\n",
    "    \"\"\"Checks for uniqueness and completeness (1-9) in every row.\"\"\"\n",
    "    for i, row in enumerate(grid):\n",
    "        if set(row) != expected_numbers:\n",
    "            return False, f\"Row {i + 1}: {row}\"\n",
    "    return True, None\n",
    "\n",
    "def check_cols(grid, expected_numbers):\n",
    "    \"\"\"Checks for uniqueness and completeness (1-9) in every column.\"\"\"\n",
    "    sudoku_size = 6\n",
    "    for j in range(sudoku_size):\n",
    "        column = [grid[i][j] for i in range(sudoku_size)]\n",
    "        if set(column) != expected_numbers:\n",
    "            return False, f\"Column {j + 1}: {column}\"\n",
    "    return True, None\n",
    "\n",
    "def check_blocks(grid, expected_numbers):\n",
    "    \"\"\"Checks for uniqueness and completeness (1-9) in every 3x3 block.\"\"\"\n",
    "    # Iterate over the starting indices for the 9 blocks: (0,0), (0,3), (0,6), (3,0), ...\n",
    "    for block_row_start in [0, 3, 6]:\n",
    "        for block_col_start in [0, 3, 6]:\n",
    "            block = []\n",
    "            \n",
    "            # Extract the 3x3 block's elements\n",
    "            for i in range(block_row_start, block_row_start + 3):\n",
    "                for j in range(block_col_start, block_col_start + 3):\n",
    "                    block.append(grid[i][j])\n",
    "            \n",
    "            # Check for uniqueness and completeness (1-9)\n",
    "            if set(block) != expected_numbers:\n",
    "                return False, f\"Block at ({block_row_start+1}, {block_col_start+1})\"\n",
    "    return True, None\n",
    "\n",
    "def is_sudoku_solved(grid):\n",
    "    \"\"\"\n",
    "    Checks if the given 9x9 grid is a correctly solved Sudoku puzzle by verifying\n",
    "    row, column, and 3x3 block constraints.\n",
    "    \"\"\"\n",
    "    global sudoku_size\n",
    "    sudoku_size = len(grid)\n",
    "    # 1. Basic check: Ensure the grid is 9x9\n",
    "    if len(grid) != 9 or any(len(row) != 9 for row in grid):\n",
    "        print(\"Error: Grid must be exactly 9x9.\")\n",
    "        return False\n",
    "\n",
    "    # The set of expected numbers for a solved unit (row, column, or block)\n",
    "    expected_numbers = set(range(1, 10))\n",
    "\n",
    "    # 2. Check Rows\n",
    "    is_valid, error_info = check_rows(grid, expected_numbers)\n",
    "    if not is_valid:\n",
    "        print(f\"Mistake found in {error_info}\")\n",
    "        return False\n",
    "\n",
    "    # 3. Check Columns\n",
    "    is_valid, error_info = check_cols(grid, expected_numbers)\n",
    "    if not is_valid:\n",
    "        print(f\"Mistake found in {error_info}\")\n",
    "        return False\n",
    "\n",
    "    # 4. Check Blocks\n",
    "    is_valid, error_info = check_blocks(grid, expected_numbers)\n",
    "    if not is_valid:\n",
    "        print(f\"Mistake found in {error_info}\")\n",
    "        return False\n",
    "\n",
    "    # If all checks pass, the Sudoku is solved correctly\n",
    "    return True\n",
    "\n",
    "# calling the function as follows:\n",
    "\n",
    "import numpy as np\n",
    "grid = np.random.randint(1,10,(9,9))\n",
    "print(grid)\n",
    "is_sudoku_solved(grid.tolist())\n",
    "\n",
    "solved_grid = [\n",
    "    [5, 3, 4, 6, 7, 8, 9, 1, 2],\n",
    "    [6, 7, 2, 1, 9, 5, 3, 4, 8],\n",
    "    [1, 9, 8, 3, 4, 2, 5, 6, 7],\n",
    "    [8, 5, 9, 7, 6, 1, 4, 2, 3],\n",
    "    [4, 2, 6, 8, 5, 3, 7, 9, 1],\n",
    "    [7, 1, 3, 9, 2, 4, 8, 5, 6],\n",
    "    [9, 6, 1, 5, 3, 7, 2, 8, 4],\n",
    "    [2, 8, 7, 4, 1, 9, 6, 3, 5],\n",
    "    [3, 4, 5, 2, 8, 6, 1, 7, 9]\n",
    "]\n",
    "is_sudoku_solved(solved_grid)"
   ]
  }
 ],
 "metadata": {
  "kernelspec": {
   "display_name": "Python 3",
   "language": "python",
   "name": "python3"
  },
  "language_info": {
   "codemirror_mode": {
    "name": "ipython",
    "version": 3
   },
   "file_extension": ".py",
   "mimetype": "text/x-python",
   "name": "python",
   "nbconvert_exporter": "python",
   "pygments_lexer": "ipython3",
   "version": "3.12.2"
  }
 },
 "nbformat": 4,
 "nbformat_minor": 4
}
