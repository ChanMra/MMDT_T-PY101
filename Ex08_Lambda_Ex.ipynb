{
 "cells": [
  {
   "cell_type": "markdown",
   "metadata": {},
   "source": [
    "Q1). Write a lambda function that takes an integer 'year' and returns 'age'."
   ]
  },
  {
   "cell_type": "code",
   "execution_count": null,
   "metadata": {},
   "outputs": [],
   "source": [
    "from datetime import datetime\n",
    "\n",
    "current_year = datetime.now().year\n"
   ]
  },
  {
   "cell_type": "markdown",
   "metadata": {},
   "source": [
    "Q2) Write a lambda function that takes a float \"cost\" and returns a float \"price\" by adding 10% to the cost."
   ]
  },
  {
   "cell_type": "code",
   "execution_count": null,
   "metadata": {},
   "outputs": [],
   "source": [
    "\n",
    "\n"
   ]
  },
  {
   "cell_type": "markdown",
   "metadata": {},
   "source": [
    "Q3) Write a lambda function that takes two strings 'name' , 'domain' and returns an email address (string)."
   ]
  },
  {
   "cell_type": "code",
   "execution_count": null,
   "metadata": {},
   "outputs": [],
   "source": []
  },
  {
   "cell_type": "markdown",
   "metadata": {},
   "source": [
    "Q4) Lambda in Data Science/Data Analysis"
   ]
  },
  {
   "cell_type": "code",
   "execution_count": null,
   "metadata": {},
   "outputs": [],
   "source": [
    "import pandas as pd\n",
    "\n",
    "df = pd.read_csv(\"./data/rentals.csv\")\n",
    "\n",
    "# Q4.1) Create a new column called \"size\" where each entry is \n",
    "# determined by the number of bathrooms: 'large' if the number of bathrooms is greater than 3, and 'small' otherwise.\n",
    "\n",
    "\n",
    "\n",
    "\n",
    "\n",
    "\n",
    "# -----------------------------------------------------------------#\n",
    "# Q4.2) Creat a new column called \"price_category\" where \n",
    "# Assign each entry as the following categories based on the price:\n",
    "# If the price is greater than 100, the category should be 'premium'.\n",
    "# Otherwise, the category should be 'standard'.\n",
    "\n",
    "\n",
    "\n",
    "\n",
    "\n",
    "# -----------------------------------------------------------------#\n",
    "# Do not change the code below: \n",
    "# Print the first five rows to see the data. You should have 11 columns\n",
    "\n",
    "print(f\"DataFrame has {df.shape[1]} columns\")\n",
    "df.head()"
   ]
  }
 ],
 "metadata": {
  "kernelspec": {
   "display_name": "Python 3",
   "language": "python",
   "name": "python3"
  },
  "language_info": {
   "codemirror_mode": {
    "name": "ipython",
    "version": 3
   },
   "file_extension": ".py",
   "mimetype": "text/x-python",
   "name": "python",
   "nbconvert_exporter": "python",
   "pygments_lexer": "ipython3",
   "version": "3.12.2"
  }
 },
 "nbformat": 4,
 "nbformat_minor": 2
}
