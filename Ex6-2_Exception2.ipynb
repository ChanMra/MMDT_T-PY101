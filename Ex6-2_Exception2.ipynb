{
 "cells": [
  {
   "cell_type": "markdown",
   "metadata": {},
   "source": [
    "# Exception Handling\n"
   ]
  },
  {
   "cell_type": "markdown",
   "metadata": {},
   "source": [
    "### Q2) Run the following programs and identify the potential errors. \n",
    "Use exception handling approach to handle and print all the potential erros. \n"
   ]
  },
  {
   "cell_type": "code",
   "execution_count": null,
   "metadata": {},
   "outputs": [],
   "source": [
    "#Q2.1) \n",
    "a = 1\n",
    "b = int(input(\"Please enter a number to divide a \"))\n",
    "a = a/b\n",
    "print(\"Success a= \",a)\n"
   ]
  },
  {
   "cell_type": "code",
   "execution_count": null,
   "metadata": {},
   "outputs": [],
   "source": [
    "#Q2.2) \n",
    "mylist = [2, 3, 5, -7, 8, 0]\n",
    "idx = 0\n",
    "b = 5\n",
    "while idx<=6:\n",
    "    print('Iteration:', idx, mylist[idx]/b) \n",
    "    idx = idx+1\n",
    "    print('Iteration completed')\n",
    "        \n",
    "\n",
    "    \n",
    "    "
   ]
  }
 ],
 "metadata": {
  "kernelspec": {
   "display_name": ".venv",
   "language": "python",
   "name": "python3"
  },
  "language_info": {
   "codemirror_mode": {
    "name": "ipython",
    "version": 3
   },
   "file_extension": ".py",
   "mimetype": "text/x-python",
   "name": "python",
   "nbconvert_exporter": "python",
   "pygments_lexer": "ipython3",
   "version": "3.12.2"
  }
 },
 "nbformat": 4,
 "nbformat_minor": 4
}
