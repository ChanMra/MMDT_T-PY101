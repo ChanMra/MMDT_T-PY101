{
 "cells": [
  {
   "cell_type": "code",
   "execution_count": 3,
   "id": "8f986eba",
   "metadata": {},
   "outputs": [
    {
     "name": "stdout",
     "output_type": "stream",
     "text": [
      "Replacing A with T\n",
      "Resulted sequence is  TTT\n",
      "Replacing T with T\n",
      "Resulted sequence is  AAA\n"
     ]
    },
    {
     "data": {
      "text/plain": [
       "'AAA'"
      ]
     },
     "execution_count": 3,
     "metadata": {},
     "output_type": "execute_result"
    }
   ],
   "source": [
    "def is_dna_valid(sequence):\n",
    "    valid_nucleotides = \"ATCG\"\n",
    "    index = 0\n",
    "    while index < len(sequence):\n",
    "        nucleotide = sequence[index].upper()\n",
    "        if nucleotide not in valid_nucleotides:\n",
    "            print(\"Invalid DNA sequence.\")\n",
    "            return False\n",
    "        index += 1\n",
    "    return True\n",
    "\n",
    "def get_complementary_strand(sequence):\n",
    "    if(is_dna_valid(sequence)):\n",
    "        upper_seq = sequence.upper()\n",
    "        com_sequence = upper_seq.replace(\"A\", \"T\")\n",
    "        print(\"Replacing A with T\")\n",
    "        print(\"Resulted sequence is \", com_sequence)\n",
    "        com_sequence = com_sequence.replace(\"T\", \"A\")\n",
    "        print(\"Replacing T with T\")\n",
    "        print(\"Resulted sequence is \", com_sequence)\n",
    "        com_sequence = com_sequence.replace(\"C\", \"G\")\n",
    "        com_sequence = com_sequence.replace(\"G\", \"C\")\n",
    "        return com_sequence\n",
    "    else:\n",
    "        return None \n",
    "    \n",
    "get_complementary_strand(\"AAA\")"
   ]
  },
  {
   "cell_type": "code",
   "execution_count": 6,
   "id": "d7a8b043",
   "metadata": {},
   "outputs": [
    {
     "data": {
      "text/plain": [
       "'CTAATGT'"
      ]
     },
     "execution_count": 6,
     "metadata": {},
     "output_type": "execute_result"
    }
   ],
   "source": [
    "def get_complementary_strand(sequence):\n",
    "    dict_map = {\"A\": \"T\", \"T\": \"A\", \"G\": \"C\", \"C\": \"G\"} \n",
    "    com_sequence = \"\"\n",
    "    if(is_dna_valid(sequence)):\n",
    "        upper_seq = sequence.upper()\n",
    "        for base in upper_seq:\n",
    "            com_sequence = com_sequence + dict_map[base]\n",
    "        return com_sequence\n",
    "    else:\n",
    "        return None \n",
    "    \n",
    "get_complementary_strand(\"GATTACA\")"
   ]
  }
 ],
 "metadata": {
  "kernelspec": {
   "display_name": "Python 3",
   "language": "python",
   "name": "python3"
  },
  "language_info": {
   "codemirror_mode": {
    "name": "ipython",
    "version": 3
   },
   "file_extension": ".py",
   "mimetype": "text/x-python",
   "name": "python",
   "nbconvert_exporter": "python",
   "pygments_lexer": "ipython3",
   "version": "3.12.2"
  }
 },
 "nbformat": 4,
 "nbformat_minor": 5
}
