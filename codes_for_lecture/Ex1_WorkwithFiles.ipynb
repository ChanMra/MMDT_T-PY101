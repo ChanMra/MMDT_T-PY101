{
 "cells": [
  {
   "cell_type": "code",
   "execution_count": null,
   "id": "82ce961b",
   "metadata": {},
   "outputs": [],
   "source": [
    "f = open(\"../data/Q2.txt\")\n",
    "all_text = f.read()\n",
    "print(all_text)\n",
    "f.close()"
   ]
  },
  {
   "cell_type": "code",
   "execution_count": null,
   "id": "ef09ebd9",
   "metadata": {},
   "outputs": [],
   "source": [
    "f = open(\"../data/Q2.txt\")\n",
    "first_50 = f.read(50)\n",
    "print(first_50)\n",
    "f.close()"
   ]
  },
  {
   "cell_type": "code",
   "execution_count": null,
   "id": "cff888c4",
   "metadata": {},
   "outputs": [],
   "source": [
    "f= open(\"../data/Q2.txt\", \"r\")\n",
    "first_line = f.readline()\n",
    "print(first_line)\n",
    "second_line = f.readline()\n",
    "print(second_line)\n",
    "f.close()"
   ]
  },
  {
   "cell_type": "code",
   "execution_count": null,
   "id": "fdf35528",
   "metadata": {},
   "outputs": [],
   "source": [
    "f = open(\"../data/Q2.txt\", \"r\")\n",
    "all_lines = f.readlines()\n",
    "print(all_lines[0:5])\n",
    "f.close()"
   ]
  },
  {
   "cell_type": "code",
   "execution_count": null,
   "id": "255c4c4b",
   "metadata": {},
   "outputs": [],
   "source": [
    "with open(\"../data/Q2.txt\", \"r\") as f:\n",
    "    all_text = f.read()\n",
    "    print(all_text)"
   ]
  },
  {
   "cell_type": "code",
   "execution_count": null,
   "id": "6ab749a7",
   "metadata": {},
   "outputs": [],
   "source": [
    "with open(\"../data/Q2.txt\", \"r\") as f:\n",
    "    first_line = f.readline()\n",
    "    print(first_line)\n",
    "    second_line = f.readline()\n",
    "    print(second_line)"
   ]
  },
  {
   "cell_type": "code",
   "execution_count": null,
   "id": "1526c889",
   "metadata": {},
   "outputs": [],
   "source": [
    "with open(\"../data/Q2.txt\", \"r\") as f:\n",
    "    all_lines = f.readlines()\n",
    "    print(all_lines)\n",
    "    "
   ]
  },
  {
   "cell_type": "code",
   "execution_count": null,
   "id": "2977c4e9",
   "metadata": {},
   "outputs": [],
   "source": [
    "with open(\"../data/Q2.txt\", \"rb\") as f:\n",
    "    first_50_bytes = f.read(50)\n",
    "    print(first_50_bytes)"
   ]
  },
  {
   "cell_type": "code",
   "execution_count": null,
   "id": "b2aa5d87",
   "metadata": {},
   "outputs": [],
   "source": [
    "with open(\"../data/ball.bmp\", \"rb\") as f:\n",
    "    header = f.read(18)\n",
    "    print(header)"
   ]
  },
  {
   "cell_type": "code",
   "execution_count": null,
   "id": "36487e06",
   "metadata": {},
   "outputs": [],
   "source": [
    "import struct\n",
    "\n",
    "with open(\"../data/ball.bmp\", \"rb\") as f:\n",
    "    header = f.read(18)\n",
    "    print(header)\n",
    "    header_fields = struct.unpack(\"<2sIHHII\", header)\n",
    "    print(header_fields)\n",
    "    print(\"Signature:\", header_fields[0])\n",
    "    print(\"File size:\", header_fields[1])\n",
    "    print(\"Reserved 1:\", header_fields[2])\n",
    "    print(\"Reserved 2:\", header_fields[3])\n",
    "    print(\"Pixel data offset:\", header_fields[4])\n",
    "    print(\"DIB header size:\", header_fields[5])"
   ]
  },
  {
   "cell_type": "code",
   "execution_count": null,
   "id": "bfa340f4",
   "metadata": {},
   "outputs": [],
   "source": [
    "with open(\"../data/Q2_output.txt\", \"w\") as f:\n",
    "    f.write(\"Hello, World!\\n\")\n",
    "    f.write(\"This is a test file.\\n\")"
   ]
  },
  {
   "cell_type": "code",
   "execution_count": null,
   "id": "fd06166c",
   "metadata": {},
   "outputs": [],
   "source": [
    "with open(\"../data/Q2_output.txt\", \"a\") as f:\n",
    "    f.write(\"Appending a new line.\\n\")\n",
    "    f.write(\"This is Computer Science class.\\n\")"
   ]
  },
  {
   "cell_type": "code",
   "execution_count": null,
   "id": "6b07be68",
   "metadata": {},
   "outputs": [],
   "source": [
    "f = open(\"../data/Q2_output.txt\", \"w\")\n",
    "f.write(\"Overwriting the file.\\n\")\n",
    "f.close()"
   ]
  },
  {
   "cell_type": "code",
   "execution_count": null,
   "id": "c2182452",
   "metadata": {},
   "outputs": [],
   "source": [
    "import os\n",
    "\n",
    "print(os.getcwd())"
   ]
  },
  {
   "cell_type": "code",
   "execution_count": null,
   "id": "997d7620",
   "metadata": {},
   "outputs": [],
   "source": [
    "file_path = os.path.join(os.getcwd(), \"data\", \"Q2.txt\")\n",
    "print(file_path)"
   ]
  },
  {
   "cell_type": "code",
   "execution_count": null,
   "id": "c3dc5904",
   "metadata": {},
   "outputs": [],
   "source": [
    "file_path = os.path.join(\"..\", \"data\", \"Q2.txt\")\n",
    "print(file_path)\n",
    "\n",
    "if os.path.exists(file_path):\n",
    "    print(f\"{file_path} exists.\")\n",
    "    with open(file_path, \"r\") as f:\n",
    "        content = f.read()\n",
    "        print(content)\n",
    "\n",
    "else:\n",
    "    print(f\"{file_path} does not exist.\")\n",
    "    with open(file_path, \"w\") as f:\n",
    "        f.write(\"Creating a new file.\\n\")"
   ]
  },
  {
   "cell_type": "code",
   "execution_count": null,
   "id": "57bcf034",
   "metadata": {},
   "outputs": [],
   "source": [
    "file_path = os.path.join(\"..\", \"data\", \"Q2.txt\")\n",
    "if os.path.exists(file_path):\n",
    "    print(f\"{file_path} exists.\")\n",
    "    with open(file_path, \"r\") as names:\n",
    "        header = names.readline()    \n",
    "        namelist = names.readlines()\n",
    "        print(namelist)\n",
    "\n",
    "\n",
    "    output_path = os.path.join(\"..\", \"data\", \"Q2_names_processed.txt\")\n",
    "    with open(output_path, \"w\") as output_file:\n",
    "        for each_name in namelist:        \n",
    "            each_name = each_name.strip().lower().replace(\" \", \"_\")\n",
    "            email_address = each_name + \"@gmail.com\"\n",
    "            output_file.write(each_name + \", \" + email_address + \"\\n\")\n"
   ]
  }
 ],
 "metadata": {
  "kernelspec": {
   "display_name": "Python 3",
   "language": "python",
   "name": "python3"
  },
  "language_info": {
   "codemirror_mode": {
    "name": "ipython",
    "version": 3
   },
   "file_extension": ".py",
   "mimetype": "text/x-python",
   "name": "python",
   "nbconvert_exporter": "python",
   "pygments_lexer": "ipython3",
   "version": "3.12.2"
  }
 },
 "nbformat": 4,
 "nbformat_minor": 5
}
