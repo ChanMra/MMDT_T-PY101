{
 "cells": [
  {
   "cell_type": "code",
   "execution_count": 31,
   "id": "82ce961b",
   "metadata": {},
   "outputs": [
    {
     "name": "stdout",
     "output_type": "stream",
     "text": [
      "Name\n",
      "Dechen Dorji\n",
      "Deki Tshomo\n",
      "Dorji Tshering\n",
      "Dorji Wangmo\n",
      "Gem Tshering Lepcha\n",
      "Jigme Dorji\n",
      "Kinley Cheki\n",
      "Kinley Wangmo\n",
      "Ngawang Dema Karpo\n",
      "Roshan Chhetri\n",
      "Sonam Tenzin\n",
      "Sonam Tobgay\n",
      "Sonam Yangden\n",
      "Tandin Om\n",
      "Tandin Wangchuk\n",
      "Tashi Om\n",
      "Tenday Zangmo\n",
      "Tshering Pem\n",
      "Ugyen Phurpa\n",
      "Marmitt\n"
     ]
    }
   ],
   "source": [
    "f = open(\"../data/Q2.txt\")\n",
    "all_text = f.read()\n",
    "print(all_text)\n",
    "f.close()"
   ]
  },
  {
   "cell_type": "code",
   "execution_count": 23,
   "id": "ef09ebd9",
   "metadata": {},
   "outputs": [
    {
     "name": "stdout",
     "output_type": "stream",
     "text": [
      "Name\n",
      "Dechen Dorji\n",
      "Deki Tshomo\n",
      "Dorji Tshering\n",
      "Dorji\n"
     ]
    }
   ],
   "source": [
    "f = open(\"../data/Q2.txt\")\n",
    "first_50 = f.read(50)\n",
    "print(first_50)\n",
    "f.close()"
   ]
  },
  {
   "cell_type": "code",
   "execution_count": 32,
   "id": "cff888c4",
   "metadata": {},
   "outputs": [
    {
     "name": "stdout",
     "output_type": "stream",
     "text": [
      "Name\n",
      "\n",
      "Dechen Dorji\n",
      "\n"
     ]
    }
   ],
   "source": [
    "f= open(\"../data/Q2.txt\", \"r\")\n",
    "first_line = f.readline()\n",
    "print(first_line)\n",
    "second_line = f.readline()\n",
    "print(second_line)\n",
    "f.close()"
   ]
  },
  {
   "cell_type": "code",
   "execution_count": 34,
   "id": "fdf35528",
   "metadata": {},
   "outputs": [
    {
     "name": "stdout",
     "output_type": "stream",
     "text": [
      "['Name\\n', 'Dechen Dorji\\n', 'Deki Tshomo\\n', 'Dorji Tshering\\n', 'Dorji Wangmo\\n']\n"
     ]
    }
   ],
   "source": [
    "f = open(\"../data/Q2.txt\", \"r\")\n",
    "all_lines = f.readlines()\n",
    "print(all_lines[0:5])\n",
    "f.close()"
   ]
  },
  {
   "cell_type": "code",
   "execution_count": null,
   "id": "255c4c4b",
   "metadata": {},
   "outputs": [],
   "source": [
    "with open(\"../data/Q2.txt\", \"r\") as f:\n",
    "    all_text = f.read()\n",
    "    print(all_text)"
   ]
  },
  {
   "cell_type": "code",
   "execution_count": null,
   "id": "6ab749a7",
   "metadata": {},
   "outputs": [],
   "source": [
    "with open(\"../data/Q2.txt\", \"r\") as f:\n",
    "    first_line = f.readline()\n",
    "    print(first_line)\n",
    "    second_line = f.readline()\n",
    "    print(second_line)"
   ]
  },
  {
   "cell_type": "code",
   "execution_count": null,
   "id": "1526c889",
   "metadata": {},
   "outputs": [],
   "source": [
    "with open(\"../data/Q2.txt\", \"r\") as f:\n",
    "    all_lines = f.readlines()\n",
    "    print(all_lines)\n",
    "    "
   ]
  },
  {
   "cell_type": "code",
   "execution_count": 24,
   "id": "2977c4e9",
   "metadata": {},
   "outputs": [
    {
     "name": "stdout",
     "output_type": "stream",
     "text": [
      "b'Name\\nDechen Dorji\\nDeki Tshomo\\nDorji Tshering\\nDorji'\n"
     ]
    }
   ],
   "source": [
    "with open(\"../data/Q2.txt\", \"rb\") as f:\n",
    "    first_50_bytes = f.read(50)\n",
    "    print(first_50_bytes)"
   ]
  },
  {
   "cell_type": "code",
   "execution_count": null,
   "id": "b2aa5d87",
   "metadata": {},
   "outputs": [
    {
     "name": "stdout",
     "output_type": "stream",
     "text": [
      "b'BMb\\xe6\\x00\\x00\\x00\\x00\\x00\\x006\\x04\\x00\\x00(\\x00'\n"
     ]
    }
   ],
   "source": [
    "with open(\"../data/ball.bmp\", \"rb\") as f:\n",
    "    header = f.read(18)\n",
    "    print(header)"
   ]
  },
  {
   "cell_type": "code",
   "execution_count": 30,
   "id": "36487e06",
   "metadata": {},
   "outputs": [
    {
     "name": "stdout",
     "output_type": "stream",
     "text": [
      "b'BMb\\xe6\\x00\\x00\\x00\\x00\\x00\\x006\\x04\\x00\\x00(\\x00\\x00\\x00'\n",
      "(b'BM', 58978, 0, 0, 1078, 40)\n",
      "Signature: b'BM'\n",
      "File size: 58978\n",
      "Reserved 1: 0\n",
      "Reserved 2: 0\n",
      "Pixel data offset: 1078\n",
      "DIB header size: 40\n"
     ]
    }
   ],
   "source": [
    "import struct\n",
    "\n",
    "with open(\"../data/ball.bmp\", \"rb\") as f:\n",
    "    header = f.read(18)\n",
    "    print(header)\n",
    "    header_fields = struct.unpack(\"<2sIHHII\", header)\n",
    "    print(header_fields)\n",
    "    print(\"Signature:\", header_fields[0])\n",
    "    print(\"File size:\", header_fields[1])\n",
    "    print(\"Reserved 1:\", header_fields[2])\n",
    "    print(\"Reserved 2:\", header_fields[3])\n",
    "    print(\"Pixel data offset:\", header_fields[4])\n",
    "    print(\"DIB header size:\", header_fields[5])"
   ]
  }
 ],
 "metadata": {
  "kernelspec": {
   "display_name": ".venv",
   "language": "python",
   "name": "python3"
  },
  "language_info": {
   "codemirror_mode": {
    "name": "ipython",
    "version": 3
   },
   "file_extension": ".py",
   "mimetype": "text/x-python",
   "name": "python",
   "nbconvert_exporter": "python",
   "pygments_lexer": "ipython3",
   "version": "3.9.6"
  }
 },
 "nbformat": 4,
 "nbformat_minor": 5
}
