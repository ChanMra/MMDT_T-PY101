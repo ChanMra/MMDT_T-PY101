{
  "cells": [
    {
      "cell_type": "markdown",
      "metadata": {
        "colab_type": "text",
        "id": "view-in-github"
      },
      "source": [
        "<a href=\"https://colab.research.google.com/github/myothida/PythonProgramming/blob/main/Ex5_Function.ipynb\" target=\"_parent\"><img src=\"https://colab.research.google.com/assets/colab-badge.svg\" alt=\"Open In Colab\"/></a>"
      ]
    },
    {
      "cell_type": "markdown",
      "metadata": {
        "id": "b-1b6ywy-O5i"
      },
      "source": [
        "Exercises are taken from : https://www.brianheinold.net/python/A_Practical_Introduction_to_Python_Programming_Heinold.pdf\n"
      ]
    },
    {
      "cell_type": "markdown",
      "metadata": {
        "id": "pps5xBbs-I9w"
      },
      "source": [
        "Ex 1: Write a function called rectangle that takes two integers m and n as arguments and prints\n",
        "out an m× n box consisting of asterisks. Shown below is the output of rectangle(2,4)\n",
        "****\n",
        "****"
      ]
    },
    {
      "cell_type": "code",
      "execution_count": null,
      "metadata": {
        "id": "S_5WWVLH3u8y"
      },
      "outputs": [],
      "source": [
        "def rectangle(m,n):\n",
        "    for i in range(m):\n",
        "        print(n*'*')\n",
        "\n",
        "        \n",
        "rectangle(3,4)"
      ]
    },
    {
      "cell_type": "markdown",
      "metadata": {
        "id": "0QS7SmPV-coO"
      },
      "source": [
        "Ex 2: Write a function that takes an integer n and returns a random integer with exactly n digits. For\n",
        "instance, if n is 3, then 125 and 593 would be valid return values, but 093 would not because\n",
        "that is really 93, which is a two-digit number."
      ]
    },
    {
      "cell_type": "code",
      "execution_count": null,
      "metadata": {
        "id": "c4ejnmGJ-MzL"
      },
      "outputs": [],
      "source": [
        "import random\n",
        "def random_dig(n):\n",
        "    x = random.randint(10**(n-1), 10**n-1)\n",
        "    \n",
        "    return x\n",
        "    \n",
        "print(random_dig(3))"
      ]
    },
    {
      "cell_type": "markdown",
      "metadata": {
        "id": "B0P_F5Ld-ldg"
      },
      "source": [
        "Ex 3: Write a function called number_of_factors that takes an integer and returns how many\n",
        "factors the number has."
      ]
    },
    {
      "cell_type": "code",
      "execution_count": null,
      "metadata": {
        "id": "Yr2BLCXp-oTi"
      },
      "outputs": [],
      "source": [
        "def number_of_factors(N):\n",
        "    factor_list = []\n",
        "    for d in range(1,N+1):\n",
        "        if(N%d ==0):\n",
        "            factor_list.append(d)\n",
        "    return len(factor_list)\n",
        "\n",
        "number_of_factors(4)   "
      ]
    },
    {
      "cell_type": "markdown",
      "metadata": {
        "id": "7w0DDTyY-o_4"
      },
      "source": [
        "Ex4: Write a function called first_diff that is given two strings and returns the first location in\n",
        "which the strings differ. If the strings are identical, it should return -1."
      ]
    },
    {
      "cell_type": "code",
      "execution_count": null,
      "metadata": {
        "id": "1WOvaf0z-6J6"
      },
      "outputs": [],
      "source": [
        "def first_diff(s1,s2):\n",
        "    s1 = s1.upper()\n",
        "    s2 = s2.upper()\n",
        "    if(s1==s2):\n",
        "        print('two strings are identical')\n",
        "        diff = -1\n",
        "    else:\n",
        "        diff = min(len(s1), len(s2))\n",
        "        for idx in range(min(len(s1), len(s2))):            \n",
        "            if not (s1[idx]==s2[idx]):\n",
        "                diff = idx\n",
        "                break\n",
        "    return diff         \n",
        "\n",
        "print('case 0:')\n",
        "first_diff('Hello', 'hello')\n",
        "print('case 1: same length - diff at index', first_diff('Hello', 'hellp'))\n",
        "print('case 2: diff length - diff at index', first_diff('Hel', 'hellp'))\n",
        "print('case 3: diff length - diff at index', first_diff('Hello', 'hel'))\n",
        "print('case 4: same length, all diff - diff at index', first_diff('Hello', 'arr'))\n"
      ]
    },
    {
      "cell_type": "markdown",
      "metadata": {
        "id": "jLM8fAg_-6th"
      },
      "source": [
        "Ex5: Write a function called root that is given a number x and an integer n and returns x/n. In\n",
        "the function definition, set the default value of n to 2."
      ]
    },
    {
      "cell_type": "code",
      "execution_count": null,
      "metadata": {
        "id": "1TrSgTDa_Fu0"
      },
      "outputs": [],
      "source": [
        "#The original code/question has a logical error. \n",
        "\n",
        "def root(x=1, n=2):\n",
        "    try:    \n",
        "        assert x > 0, \"base x must be greater than zero.\"\n",
        "        result = x**(1/n)\n",
        "        return result\n",
        "    except ZeroDivisionError as e:\n",
        "        print(f'Error: {e}')\n",
        "    except TypeError as e:\n",
        "        print(f'Error: {e}')\n",
        "    except ValueError as e:\n",
        "        print(f'Error: {e}')\n",
        "    except OverflowError as e:\n",
        "        print(f'Error: {e}')\n",
        "    except AssertionError as e:\n",
        "        print(f'Error: {e}')\n",
        "    except MemoryError as e:\n",
        "        print(f'Error: {e}')\n",
        "    else:\n",
        "        print('Other Errors')\n",
        "    finally: \n",
        "        print('Code is Complete here!')\n",
        "\n",
        "\n",
        "root(-8, 3)\n",
        "root(8, 0)\n",
        "root(10**1000, 3)\n",
        "root('hello', 3)\n"
      ]
    }
  ],
  "metadata": {
    "colab": {
      "authorship_tag": "ABX9TyOc19BkvVV1F7h4PXyyYuJC",
      "include_colab_link": true,
      "name": "Ex5_Function.ipynb",
      "provenance": []
    },
    "kernelspec": {
      "display_name": ".venv",
      "language": "python",
      "name": "python3"
    },
    "language_info": {
      "codemirror_mode": {
        "name": "ipython",
        "version": 3
      },
      "file_extension": ".py",
      "mimetype": "text/x-python",
      "name": "python",
      "nbconvert_exporter": "python",
      "pygments_lexer": "ipython3",
      "version": "3.12.2"
    }
  },
  "nbformat": 4,
  "nbformat_minor": 0
}
