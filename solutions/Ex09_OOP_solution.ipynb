{
 "cells": [
  {
   "cell_type": "markdown",
   "metadata": {},
   "source": [
    "You're building a simple system to keep track of students in a class. You need to create a Python class named Student that models a real-world student.\n",
    "\n",
    "Your task is to implement the following features in the Student class:\n",
    "\n",
    "1) A constructor (__init__ method) that accepts a new_name parameter. This method should automatically initialize an instance attribute called name to store the student's name.\n",
    "\n",
    "2) A method called set_scores that takes an argument named score. This method's purpose is to set a new instance attribute, also called score, for the student.\n",
    "\n",
    "3) A method called print_name that prints a formatted string displaying the message \"The student's name is\" followed by the value of the student's name.\n",
    "\n",
    "Write the complete code for the Student class, including all three of these components."
   ]
  },
  {
   "cell_type": "code",
   "execution_count": null,
   "metadata": {},
   "outputs": [],
   "source": [
    "class student():\n",
    "    \n",
    "    def __init__(self,new_name):\n",
    "        self.name = new_name\n",
    "    \n",
    "    def set_scores(self,score):\n",
    "        self.score = score\n",
    "\n",
    "    def print_name(self):\n",
    "        print(f\"The student's name is\", self.name)"
   ]
  },
  {
   "cell_type": "markdown",
   "metadata": {},
   "source": [
    "You're developing a simple human resources (HR) system for a company, and you need to create a Python class named Employee to manage employee data. Your task is to implement the following features in the Employee class:\n",
    "\n",
    "1) A constructor (__init__ method) that accepts two arguments: new_name and new_salary. This method should automatically initialize two instance attributes, self.name and self.salary, to store the employee's name and starting salary.\n",
    "\n",
    "2) A method called give_raise that takes a single argument, amount. This method's purpose is to update the employee's salary by adding the amount to their current salary.\n",
    "\n",
    "Write the complete code for the Employee class, including both of these components."
   ]
  },
  {
   "cell_type": "code",
   "execution_count": null,
   "metadata": {},
   "outputs": [],
   "source": [
    "class employee:\n",
    "\n",
    "    def __init__(self,new_name, new_salary):\n",
    "        self.name = new_name\n",
    "        self.salary = new_salary        \n",
    "\n",
    "    \n",
    "    def give_raise(self, amount):\n",
    "        self.salary = self.salary + amount"
   ]
  },
  {
   "cell_type": "markdown",
   "metadata": {},
   "source": [
    "You're building a simple pet adoption system, and you need to create a Python class named Dog to represent different dogs. Your task is to implement the following features in the Dog class:\n",
    "\n",
    "1) A constructor (__init__ method) that accepts two arguments: name and age. This method should automatically initialize two instance attributes, self.name and self.age, to store the dog's information.\n",
    "\n",
    "2) A method called description that returns a string formatted as: \"[dog's name] is [dog's age] years old\".\n",
    "\n",
    "3) A method called speak that takes a sound parameter. This method should return a string formatted as: \"[dog's name] says [sound]\".\n",
    "\n",
    "Write the complete code for the Dog class, including all three of these components."
   ]
  },
  {
   "cell_type": "code",
   "execution_count": null,
   "metadata": {},
   "outputs": [],
   "source": [
    "class dog:    \n",
    "\n",
    "    def __init__(self, name, age):\n",
    "        self.name = name\n",
    "        self.age = age\n",
    "    \n",
    "    def description(self):\n",
    "        return f\"{self.name} is {self.age} years old\"\n",
    "\n",
    "    def speak(self, sound):\n",
    "        return f\"{self.name} says {sound}\""
   ]
  },
  {
   "cell_type": "markdown",
   "metadata": {},
   "source": [
    "You're building a geometry tool to perform calculations on shapes. Your first task is to create a Python class named Rectangle to represent a rectangle. You need to implement the following features:\n",
    "\n",
    "1) A constructor (__init__ method) that accepts two arguments: length and width. This method should automatically initialize two instance attributes, self.length and self.width, to store the dimensions of the rectangle.\n",
    "\n",
    "2) A method called area that calculates and returns the area of the rectangle (length multiplied by width).\n",
    "\n",
    "After you've created the class, we will use it to create objects like rect_a = Rectangle(3, 4) and call methods like rect_a.area() to get the calculated area.\n",
    "\n",
    "Write the complete code for the Rectangle class, including both of these components."
   ]
  },
  {
   "cell_type": "code",
   "execution_count": null,
   "metadata": {},
   "outputs": [],
   "source": [
    "class Recetangle:\n",
    "    def __init__(self, length, width):\n",
    "        self.width = width\n",
    "        self.length = length\n",
    "\n",
    "    def area(self):\n",
    "        return self.width*self.length\n",
    "\n",
    "\n",
    "rect_a = Recetangle(3,4)\n",
    "rect_a.area()"
   ]
  }
 ],
 "metadata": {
  "kernelspec": {
   "display_name": ".venv",
   "language": "python",
   "name": "python3"
  },
  "language_info": {
   "codemirror_mode": {
    "name": "ipython",
    "version": 3
   },
   "file_extension": ".py",
   "mimetype": "text/x-python",
   "name": "python",
   "nbconvert_exporter": "python",
   "pygments_lexer": "ipython3",
   "version": "3.12.2"
  }
 },
 "nbformat": 4,
 "nbformat_minor": 2
}
