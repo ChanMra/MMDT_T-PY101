{
 "cells": [
  {
   "cell_type": "code",
   "execution_count": null,
   "metadata": {},
   "outputs": [],
   "source": [
    "class student():\n",
    "    pass"
   ]
  },
  {
   "cell_type": "code",
   "execution_count": null,
   "metadata": {},
   "outputs": [],
   "source": [
    "class student():\n",
    "    \n",
    "    def __init__(self,new_name):\n",
    "        self.name = new_name\n",
    "    \n",
    "    def set_scores(self,score):\n",
    "        self.score = score\n",
    "\n",
    "    def print_name(self):\n",
    "        print(f\"The student's name is\", self.name)"
   ]
  },
  {
   "cell_type": "code",
   "execution_count": null,
   "metadata": {},
   "outputs": [],
   "source": [
    "class employee:\n",
    "\n",
    "    def __init__(self,new_name, new_salary):\n",
    "        self.name = new_name\n",
    "        self.salary = new_salary        \n",
    "\n",
    "    \n",
    "    def give_raise(self, amount):\n",
    "        self.salary = self.salary + amount"
   ]
  },
  {
   "cell_type": "code",
   "execution_count": null,
   "metadata": {},
   "outputs": [],
   "source": [
    "class dog:    \n",
    "\n",
    "    def __init__(self, name, age):\n",
    "        self.name = name\n",
    "        self.age = age\n",
    "    \n",
    "    def description(self):\n",
    "        return f\"{self.name} is {self.age} years old\"\n",
    "\n",
    "    def speak(self, sound):\n",
    "        return f\"{self.name} says {sound}\""
   ]
  },
  {
   "cell_type": "code",
   "execution_count": null,
   "metadata": {},
   "outputs": [],
   "source": [
    "class Recetangle:\n",
    "    def __init__(self, length, width):\n",
    "        self.width = width\n",
    "        self.length = length\n",
    "\n",
    "    def area(self):\n",
    "        return self.width*self.length\n",
    "\n",
    "\n",
    "rect_a = Recetangle(3,4)\n",
    "rect_a.area()"
   ]
  }
 ],
 "metadata": {
  "kernelspec": {
   "display_name": ".venv",
   "language": "python",
   "name": "python3"
  },
  "language_info": {
   "codemirror_mode": {
    "name": "ipython",
    "version": 3
   },
   "file_extension": ".py",
   "mimetype": "text/x-python",
   "name": "python",
   "nbconvert_exporter": "python",
   "pygments_lexer": "ipython3",
   "version": "3.12.2"
  }
 },
 "nbformat": 4,
 "nbformat_minor": 2
}
